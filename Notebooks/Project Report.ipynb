{
 "metadata": {
  "language_info": {
   "codemirror_mode": {
    "name": "ipython",
    "version": 3
   },
   "file_extension": ".py",
   "mimetype": "text/x-python",
   "name": "python",
   "nbconvert_exporter": "python",
   "pygments_lexer": "ipython3",
   "version": 3
  },
  "orig_nbformat": 2
 },
 "nbformat": 4,
 "nbformat_minor": 2,
 "cells": [
  {
   "source": [
    "# Coursera Applied Data Science Capstone Final Project Report\n",
    "\n",
    "### By Elliot Taylor\n"
   ],
   "cell_type": "markdown",
   "metadata": {}
  },
  {
   "source": [
    "## Section 1 - Project background\n",
    "\n",
    "What do the world's top 50 financial centers have in common?\n",
    "\n",
    "This is the overarching question I will looking to answer with my analysis. I will use the list of world financial centers ranked by the global financial centers index (GFCI), the latest addition of which was published in September of 2020. I will use this list alongside FourSquare data for each city to categorise and group the cities based upon their venues. Following this I will explore any cultural, political or economic reasons which can explain the different clusters. \n",
    "\n",
    "The reasoning behind this is that many of the top financial centers around the world are seen as having a similar feel and environment. In my personal experience visiting London, New York, Hong Kong and other financial centers across Europe, North America and Asia I have always felt there is a familiarity where each city envokes a similar feeling despite massive cultural and politcal differences between their respective countries. Therefore I would like to explore whether the FourSquare data can be used to demonstrate any relationships between such cities. \n",
    "\n",
    "Following this analysis I will take a deeper dive into any clusters of interest or any specific cities which appear as outliers and try to describe why such clusters or anomalies exist.\n",
    "\n",
    "GFCI report: https://www.zyen.com/media/documents/GFCI_28_Full_Report_2020.09.25_v1.1.pdf"
   ],
   "cell_type": "markdown",
   "metadata": {}
  },
  {
   "source": [
    "## Section 2 - Data\n",
    "\n",
    "As mentioned I will be taking the list of countries from the GFCI, to get these I will use the Wikipedia page which lists them in order (linked below). I will then feed the list of cities into the Foursquare API which will be used to create the final data with each countries venues to be fed into the K-means clustering algorithm.\n",
    "\n",
    "Using the the Foursquare API I was able to obtain 100 venues for each city (with the excpetion of Luxembourg and Qingdao which both returned 65). Of these venues there were 390 unique venue categories. As with the Toronto example I one hot encoded these categories and used pandas groupby to create a frequency value for each category for each city. \n",
    "\n",
    "As an example, below we can see the top 5 venue categories for the top 4 financial centres in the world. These values alongside all 390 venue frequency values will be fed into the K-means clustering algorithm to produce clusters of cities. \n",
    "\n",
    "<pre>\n",
    "5 Most Common Venue Categories For:  New York\n",
    "            Venue  Frequency\n",
    "0            Park       0.13\n",
    "1  Ice Cream Shop       0.05\n",
    "2          Bakery       0.04\n",
    "3  Scenic Lookout       0.04\n",
    "4       Bookstore       0.04\n",
    "\n",
    "\n",
    "5 Most Common Venue Categories For:  London\n",
    "        Venue  Frequency\n",
    "0       Hotel       0.17\n",
    "1     Theater       0.05\n",
    "2      Lounge       0.04\n",
    "3  Art Museum       0.04\n",
    "4        Park       0.04\n",
    "\n",
    "\n",
    "5 Most Common Venue Categories For:  Shanghai\n",
    "               Venue  Frequency\n",
    "0              Hotel       0.18\n",
    "1        Coffee Shop       0.05\n",
    "2      Shopping Mall       0.05\n",
    "3  French Restaurant       0.05\n",
    "4             Bakery       0.04\n",
    "\n",
    "\n",
    "5 Most Common Venue Categories For:  Tokyo\n",
    "              Venue  Frequency\n",
    "0             Hotel       0.09\n",
    "1        Art Museum       0.05\n",
    "2  Ramen Restaurant       0.04\n",
    "3     Wagashi Place       0.04\n",
    "4          Sake Bar       0.04\n",
    "\n",
    "</pre>\n",
    "\n",
    "\n",
    "\n",
    "\n",
    "GFCI wiki page: https://en.wikipedia.org/wiki/Global_Financial_Centres_Index "
   ],
   "cell_type": "markdown",
   "metadata": {}
  },
  {
   "source": [],
   "cell_type": "markdown",
   "metadata": {}
  },
  {
   "cell_type": "code",
   "execution_count": null,
   "metadata": {},
   "outputs": [],
   "source": []
  }
 ]
}