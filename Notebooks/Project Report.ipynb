{
 "metadata": {
  "language_info": {
   "codemirror_mode": {
    "name": "ipython",
    "version": 3
   },
   "file_extension": ".py",
   "mimetype": "text/x-python",
   "name": "python",
   "nbconvert_exporter": "python",
   "pygments_lexer": "ipython3",
   "version": 3
  },
  "orig_nbformat": 2
 },
 "nbformat": 4,
 "nbformat_minor": 2,
 "cells": [
  {
   "source": [
    "# Coursera Applied Data Science Capstone Final Project Report\n",
    "\n",
    "### By Elliot Taylor\n"
   ],
   "cell_type": "markdown",
   "metadata": {}
  },
  {
   "source": [
    "## Section 1 - Project background\n",
    "\n",
    "What do the world's top 50 financial centers have in common?\n",
    "\n",
    "This is the overarching question I will looking to answer with my analysis. I will use the list of world financial centers ranked by the global financial centers index (GFCI), the latest addition of which was published in September of 2020. I will use this list alongside FourSquare data for each city to categorise and group the cities based upon their venues. Following this I will explore any cultural, political or economic reasons which can explain the different clusters. \n",
    "\n",
    "The reasoning behind this is that many of the top financial centers around the world are seen as having a similar feel and environment. In my personal experience visiting London, New York, Hong Kong and other financial centers across Europe, North America and Asia I have always felt there is a familiarity where each city envokes a similar feeling despite massive cultural and politcal differences between their respective countries. Therefore I would like to explore whether the FourSquare data can be used to demonstrate any relationships between such cities. \n",
    "\n",
    "Following this analysis I will take a deeper dive into any clusters of interest or any specific cities which appear as outliers and try to describe why such clusters or anomalies exist.\n",
    "\n",
    "GFCI report: https://www.zyen.com/media/documents/GFCI_28_Full_Report_2020.09.25_v1.1.pdf"
   ],
   "cell_type": "markdown",
   "metadata": {}
  },
  {
   "source": [
    "## Section 2 - Data\n",
    "\n",
    "As mentioned I will be taking the list of countries from the GFCI, linked below. I will then feed the list of cities into the Foursquare API which will be used to create the final data with each countries venues to be fed into the K-means clustering algorithm."
   ],
   "cell_type": "markdown",
   "metadata": {}
  }
 ]
}